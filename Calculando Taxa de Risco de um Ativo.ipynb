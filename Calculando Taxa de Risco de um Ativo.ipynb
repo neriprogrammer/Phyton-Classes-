{
 "cells": [
  {
   "cell_type": "code",
   "execution_count": 26,
   "id": "19362637",
   "metadata": {},
   "outputs": [],
   "source": [
    "# Calculando o risco de um ativo\n",
    "import numpy as np\n",
    "import pandas as pd\n",
    "from pandas_datareader import data as wb\n",
    "import matplotlib.pyplot as plt"
   ]
  },
  {
   "cell_type": "code",
   "execution_count": 34,
   "id": "53f30ea7",
   "metadata": {},
   "outputs": [],
   "source": [
    "tickers = ['PG', 'BEI.DE']\n",
    "\n",
    "sec_data = pd.DataFrame()\n",
    "\n",
    "for t in tickers:\n",
    "    sec_data[t] = wb.DataReader(t, data_source='yahoo', start='2018-1-1')['Adj Close']"
   ]
  },
  {
   "cell_type": "code",
   "execution_count": 35,
   "id": "bb29bcf4",
   "metadata": {},
   "outputs": [
    {
     "data": {
      "text/html": [
       "<div>\n",
       "<style scoped>\n",
       "    .dataframe tbody tr th:only-of-type {\n",
       "        vertical-align: middle;\n",
       "    }\n",
       "\n",
       "    .dataframe tbody tr th {\n",
       "        vertical-align: top;\n",
       "    }\n",
       "\n",
       "    .dataframe thead th {\n",
       "        text-align: right;\n",
       "    }\n",
       "</style>\n",
       "<table border=\"1\" class=\"dataframe\">\n",
       "  <thead>\n",
       "    <tr style=\"text-align: right;\">\n",
       "      <th></th>\n",
       "      <th>PG</th>\n",
       "      <th>BEI.DE</th>\n",
       "    </tr>\n",
       "    <tr>\n",
       "      <th>Date</th>\n",
       "      <th></th>\n",
       "      <th></th>\n",
       "    </tr>\n",
       "  </thead>\n",
       "  <tbody>\n",
       "    <tr>\n",
       "      <th>2022-02-07</th>\n",
       "      <td>160.320007</td>\n",
       "      <td>87.760002</td>\n",
       "    </tr>\n",
       "    <tr>\n",
       "      <th>2022-02-08</th>\n",
       "      <td>159.960007</td>\n",
       "      <td>88.300003</td>\n",
       "    </tr>\n",
       "    <tr>\n",
       "      <th>2022-02-09</th>\n",
       "      <td>159.600006</td>\n",
       "      <td>87.400002</td>\n",
       "    </tr>\n",
       "    <tr>\n",
       "      <th>2022-02-10</th>\n",
       "      <td>157.169998</td>\n",
       "      <td>87.019997</td>\n",
       "    </tr>\n",
       "    <tr>\n",
       "      <th>2022-02-11</th>\n",
       "      <td>156.289993</td>\n",
       "      <td>88.000000</td>\n",
       "    </tr>\n",
       "  </tbody>\n",
       "</table>\n",
       "</div>"
      ],
      "text/plain": [
       "                    PG     BEI.DE\n",
       "Date                             \n",
       "2022-02-07  160.320007  87.760002\n",
       "2022-02-08  159.960007  88.300003\n",
       "2022-02-09  159.600006  87.400002\n",
       "2022-02-10  157.169998  87.019997\n",
       "2022-02-11  156.289993  88.000000"
      ]
     },
     "execution_count": 35,
     "metadata": {},
     "output_type": "execute_result"
    }
   ],
   "source": [
    "sec_data.tail()"
   ]
  },
  {
   "cell_type": "code",
   "execution_count": 36,
   "id": "1a0a17a1",
   "metadata": {},
   "outputs": [],
   "source": [
    "sec_returns = np.log(sec_data / sec_data.shift(1))"
   ]
  },
  {
   "cell_type": "code",
   "execution_count": 37,
   "id": "e18773a0",
   "metadata": {},
   "outputs": [
    {
     "data": {
      "text/html": [
       "<div>\n",
       "<style scoped>\n",
       "    .dataframe tbody tr th:only-of-type {\n",
       "        vertical-align: middle;\n",
       "    }\n",
       "\n",
       "    .dataframe tbody tr th {\n",
       "        vertical-align: top;\n",
       "    }\n",
       "\n",
       "    .dataframe thead th {\n",
       "        text-align: right;\n",
       "    }\n",
       "</style>\n",
       "<table border=\"1\" class=\"dataframe\">\n",
       "  <thead>\n",
       "    <tr style=\"text-align: right;\">\n",
       "      <th></th>\n",
       "      <th>PG</th>\n",
       "      <th>BEI.DE</th>\n",
       "    </tr>\n",
       "    <tr>\n",
       "      <th>Date</th>\n",
       "      <th></th>\n",
       "      <th></th>\n",
       "    </tr>\n",
       "  </thead>\n",
       "  <tbody>\n",
       "    <tr>\n",
       "      <th>2018-01-02</th>\n",
       "      <td>NaN</td>\n",
       "      <td>NaN</td>\n",
       "    </tr>\n",
       "    <tr>\n",
       "      <th>2018-01-03</th>\n",
       "      <td>-0.001214</td>\n",
       "      <td>0.004977</td>\n",
       "    </tr>\n",
       "    <tr>\n",
       "      <th>2018-01-04</th>\n",
       "      <td>0.007044</td>\n",
       "      <td>0.014173</td>\n",
       "    </tr>\n",
       "    <tr>\n",
       "      <th>2018-01-05</th>\n",
       "      <td>0.000658</td>\n",
       "      <td>0.012365</td>\n",
       "    </tr>\n",
       "    <tr>\n",
       "      <th>2018-01-08</th>\n",
       "      <td>0.005247</td>\n",
       "      <td>0.010222</td>\n",
       "    </tr>\n",
       "    <tr>\n",
       "      <th>...</th>\n",
       "      <td>...</td>\n",
       "      <td>...</td>\n",
       "    </tr>\n",
       "    <tr>\n",
       "      <th>2022-02-07</th>\n",
       "      <td>-0.007519</td>\n",
       "      <td>0.001140</td>\n",
       "    </tr>\n",
       "    <tr>\n",
       "      <th>2022-02-08</th>\n",
       "      <td>-0.002248</td>\n",
       "      <td>0.006134</td>\n",
       "    </tr>\n",
       "    <tr>\n",
       "      <th>2022-02-09</th>\n",
       "      <td>-0.002253</td>\n",
       "      <td>-0.010245</td>\n",
       "    </tr>\n",
       "    <tr>\n",
       "      <th>2022-02-10</th>\n",
       "      <td>-0.015343</td>\n",
       "      <td>-0.004357</td>\n",
       "    </tr>\n",
       "    <tr>\n",
       "      <th>2022-02-11</th>\n",
       "      <td>-0.005615</td>\n",
       "      <td>0.011199</td>\n",
       "    </tr>\n",
       "  </tbody>\n",
       "</table>\n",
       "<p>1037 rows × 2 columns</p>\n",
       "</div>"
      ],
      "text/plain": [
       "                  PG    BEI.DE\n",
       "Date                          \n",
       "2018-01-02       NaN       NaN\n",
       "2018-01-03 -0.001214  0.004977\n",
       "2018-01-04  0.007044  0.014173\n",
       "2018-01-05  0.000658  0.012365\n",
       "2018-01-08  0.005247  0.010222\n",
       "...              ...       ...\n",
       "2022-02-07 -0.007519  0.001140\n",
       "2022-02-08 -0.002248  0.006134\n",
       "2022-02-09 -0.002253 -0.010245\n",
       "2022-02-10 -0.015343 -0.004357\n",
       "2022-02-11 -0.005615  0.011199\n",
       "\n",
       "[1037 rows x 2 columns]"
      ]
     },
     "execution_count": 37,
     "metadata": {},
     "output_type": "execute_result"
    }
   ],
   "source": [
    "sec_returns"
   ]
  },
  {
   "cell_type": "markdown",
   "id": "2855c264",
   "metadata": {},
   "source": [
    "# PG"
   ]
  },
  {
   "cell_type": "code",
   "execution_count": 39,
   "id": "37921259",
   "metadata": {},
   "outputs": [
    {
     "data": {
      "text/plain": [
       "0.0006387109155292411"
      ]
     },
     "execution_count": 39,
     "metadata": {},
     "output_type": "execute_result"
    }
   ],
   "source": [
    "sec_returns['PG'].mean()"
   ]
  },
  {
   "cell_type": "code",
   "execution_count": 40,
   "id": "1728eeff",
   "metadata": {},
   "outputs": [
    {
     "data": {
      "text/plain": [
       "0.15967772888231027"
      ]
     },
     "execution_count": 40,
     "metadata": {},
     "output_type": "execute_result"
    }
   ],
   "source": [
    "sec_returns['PG'].mean() * 250"
   ]
  },
  {
   "cell_type": "code",
   "execution_count": 41,
   "id": "18a11e76",
   "metadata": {},
   "outputs": [
    {
     "data": {
      "text/plain": [
       "0.01365118558182005"
      ]
     },
     "execution_count": 41,
     "metadata": {},
     "output_type": "execute_result"
    }
   ],
   "source": [
    "sec_returns['PG'].std()"
   ]
  },
  {
   "cell_type": "code",
   "execution_count": 43,
   "id": "66968398",
   "metadata": {},
   "outputs": [
    {
     "data": {
      "text/plain": [
       "0.21584419600101112"
      ]
     },
     "execution_count": 43,
     "metadata": {},
     "output_type": "execute_result"
    }
   ],
   "source": [
    "sec_returns['PG'].std() * 250 ** 0.5"
   ]
  },
  {
   "cell_type": "markdown",
   "id": "675ea524",
   "metadata": {},
   "source": [
    "# BEIERSDORF"
   ]
  },
  {
   "cell_type": "code",
   "execution_count": 44,
   "id": "ee409db2",
   "metadata": {},
   "outputs": [
    {
     "data": {
      "text/plain": [
       "-7.601524577472262e-05"
      ]
     },
     "execution_count": 44,
     "metadata": {},
     "output_type": "execute_result"
    }
   ],
   "source": [
    "sec_returns['BEI.DE'].mean()"
   ]
  },
  {
   "cell_type": "code",
   "execution_count": 45,
   "id": "f88314e6",
   "metadata": {},
   "outputs": [
    {
     "data": {
      "text/plain": [
       "-0.019003811443680654"
      ]
     },
     "execution_count": 45,
     "metadata": {},
     "output_type": "execute_result"
    }
   ],
   "source": [
    "sec_returns['BEI.DE'].mean() * 250"
   ]
  },
  {
   "cell_type": "code",
   "execution_count": 46,
   "id": "e15bfaf4",
   "metadata": {},
   "outputs": [
    {
     "data": {
      "text/plain": [
       "0.012947308618552688"
      ]
     },
     "execution_count": 46,
     "metadata": {},
     "output_type": "execute_result"
    }
   ],
   "source": [
    "sec_returns['BEI.DE'].std()"
   ]
  },
  {
   "cell_type": "code",
   "execution_count": 47,
   "id": "911d4339",
   "metadata": {},
   "outputs": [
    {
     "data": {
      "text/plain": [
       "0.20471492401877342"
      ]
     },
     "execution_count": 47,
     "metadata": {},
     "output_type": "execute_result"
    }
   ],
   "source": [
    "sec_returns['BEI.DE'].std() * 250 ** 0.5"
   ]
  },
  {
   "cell_type": "code",
   "execution_count": null,
   "id": "1498591a",
   "metadata": {},
   "outputs": [],
   "source": []
  },
  {
   "cell_type": "code",
   "execution_count": 48,
   "id": "3281a7b5",
   "metadata": {},
   "outputs": [
    {
     "name": "stdout",
     "output_type": "stream",
     "text": [
      "0.15967772888231027\n",
      "-0.019003811443680654\n"
     ]
    }
   ],
   "source": [
    "print (sec_returns['PG'].mean() * 250)\n",
    "print (sec_returns['BEI.DE'].mean() * 250)      "
   ]
  },
  {
   "cell_type": "code",
   "execution_count": 52,
   "id": "97249d7c",
   "metadata": {},
   "outputs": [
    {
     "data": {
      "text/plain": [
       "PG        0.159678\n",
       "BEI.DE   -0.019004\n",
       "dtype: float64"
      ]
     },
     "execution_count": 52,
     "metadata": {},
     "output_type": "execute_result"
    }
   ],
   "source": [
    "sec_returns[['PG','BEI.DE']].mean() * 250\n"
   ]
  },
  {
   "cell_type": "code",
   "execution_count": 53,
   "id": "183eba0b",
   "metadata": {},
   "outputs": [
    {
     "data": {
      "text/plain": [
       "PG        0.215844\n",
       "BEI.DE    0.204715\n",
       "dtype: float64"
      ]
     },
     "execution_count": 53,
     "metadata": {},
     "output_type": "execute_result"
    }
   ],
   "source": [
    "sec_returns[['PG','BEI.DE']].std() * 250 ** 0.5\n"
   ]
  },
  {
   "cell_type": "code",
   "execution_count": null,
   "id": "d5913275",
   "metadata": {},
   "outputs": [],
   "source": []
  }
 ],
 "metadata": {
  "kernelspec": {
   "display_name": "Python 3",
   "language": "python",
   "name": "python3"
  },
  "language_info": {
   "codemirror_mode": {
    "name": "ipython",
    "version": 3
   },
   "file_extension": ".py",
   "mimetype": "text/x-python",
   "name": "python",
   "nbconvert_exporter": "python",
   "pygments_lexer": "ipython3",
   "version": "3.8.8"
  }
 },
 "nbformat": 4,
 "nbformat_minor": 5
}
