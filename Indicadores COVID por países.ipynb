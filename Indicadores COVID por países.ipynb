{
 "cells": [
  {
   "cell_type": "code",
   "execution_count": 1,
   "id": "c4225f07",
   "metadata": {},
   "outputs": [
    {
     "name": "stdout",
     "output_type": "stream",
     "text": [
      "Collecting covid\n",
      "  Downloading covid-2.5.2.tar.gz (9.3 kB)\n",
      "  Installing build dependencies: started\n",
      "  Installing build dependencies: finished with status 'done'\n",
      "  Getting requirements to build wheel: started\n",
      "  Getting requirements to build wheel: finished with status 'done'\n",
      "    Preparing wheel metadata: started\n",
      "    Preparing wheel metadata: finished with status 'done'\n",
      "Collecting typer\n",
      "  Downloading typer-0.4.0-py3-none-any.whl (27 kB)\n",
      "Requirement already satisfied: beautifulsoup4 in c:\\users\\neri_\\anaconda3\\lib\\site-packages (from covid) (4.9.3)\n",
      "Requirement already satisfied: requests in c:\\users\\neri_\\anaconda3\\lib\\site-packages (from covid) (2.27.1)\n",
      "Collecting pydantic\n",
      "Note: you may need to restart the kernel to use updated packages.\n",
      "  Downloading pydantic-1.9.0-cp38-cp38-win_amd64.whl (2.1 MB)\n",
      "Requirement already satisfied: soupsieve>1.2 in c:\\users\\neri_\\anaconda3\\lib\\site-packages (from beautifulsoup4->covid) (2.2.1)\n",
      "Requirement already satisfied: typing-extensions>=3.7.4.3 in c:\\users\\neri_\\anaconda3\\lib\\site-packages (from pydantic->covid) (3.7.4.3)\n",
      "Requirement already satisfied: idna<4,>=2.5 in c:\\users\\neri_\\anaconda3\\lib\\site-packages (from requests->covid) (2.10)\n",
      "Requirement already satisfied: certifi>=2017.4.17 in c:\\users\\neri_\\anaconda3\\lib\\site-packages (from requests->covid) (2020.12.5)\n",
      "Requirement already satisfied: charset-normalizer~=2.0.0 in c:\\users\\neri_\\anaconda3\\lib\\site-packages (from requests->covid) (2.0.11)\n",
      "Requirement already satisfied: urllib3<1.27,>=1.21.1 in c:\\users\\neri_\\anaconda3\\lib\\site-packages (from requests->covid) (1.26.4)\n",
      "Requirement already satisfied: click<9.0.0,>=7.1.1 in c:\\users\\neri_\\anaconda3\\lib\\site-packages (from typer->covid) (7.1.2)\n",
      "Building wheels for collected packages: covid\n",
      "  Building wheel for covid (PEP 517): started\n",
      "  Building wheel for covid (PEP 517): finished with status 'done'\n",
      "  Created wheel for covid: filename=covid-2.5.2-py3-none-any.whl size=10401 sha256=85cfbf788d6ba6fab5e72e6a9407e26e2f73c01eb7760bf5926b9f1a171abaed\n",
      "  Stored in directory: c:\\users\\neri_\\appdata\\local\\pip\\cache\\wheels\\2e\\f4\\32\\648b939d4a093bd869b091d46b52c2fdd86c7ac4137a5de24d\n",
      "Successfully built covid\n",
      "Installing collected packages: typer, pydantic, covid\n",
      "Successfully installed covid-2.5.2 pydantic-1.9.0 typer-0.4.0\n"
     ]
    }
   ],
   "source": [
    "pip install covid"
   ]
  },
  {
   "cell_type": "code",
   "execution_count": 1,
   "id": "70af613b",
   "metadata": {},
   "outputs": [],
   "source": [
    "from covid import Covid"
   ]
  },
  {
   "cell_type": "code",
   "execution_count": 2,
   "id": "0cbfc1b0",
   "metadata": {},
   "outputs": [],
   "source": [
    "covid = Covid(source = \"worldometers\")"
   ]
  },
  {
   "cell_type": "code",
   "execution_count": 3,
   "id": "ec136440",
   "metadata": {},
   "outputs": [
    {
     "data": {
      "text/plain": [
       "{'country': 'Brazil',\n",
       " 'total_cases': 28250591,\n",
       " 'confirmed': 28250591,\n",
       " 'new_cases': 0,\n",
       " 'deaths': 644695,\n",
       " 'new_deaths': 0,\n",
       " 'recovered': 25244026,\n",
       " 'active': 2361870,\n",
       " 'active_cases': 2361870,\n",
       " 'critical': 8318,\n",
       " 'total_tests': 63776166,\n",
       " 'total_tests_per_million': Decimal('0'),\n",
       " 'total_cases_per_million': Decimal('131376'),\n",
       " 'total_deaths_per_million': Decimal('2998'),\n",
       " 'population': Decimal('215035499')}"
      ]
     },
     "execution_count": 3,
     "metadata": {},
     "output_type": "execute_result"
    }
   ],
   "source": [
    "covid.get_status_by_country_name('brazil')"
   ]
  },
  {
   "cell_type": "code",
   "execution_count": null,
   "id": "8bb81e1e",
   "metadata": {},
   "outputs": [],
   "source": []
  }
 ],
 "metadata": {
  "kernelspec": {
   "display_name": "Python 3",
   "language": "python",
   "name": "python3"
  },
  "language_info": {
   "codemirror_mode": {
    "name": "ipython",
    "version": 3
   },
   "file_extension": ".py",
   "mimetype": "text/x-python",
   "name": "python",
   "nbconvert_exporter": "python",
   "pygments_lexer": "ipython3",
   "version": "3.8.8"
  }
 },
 "nbformat": 4,
 "nbformat_minor": 5
}
