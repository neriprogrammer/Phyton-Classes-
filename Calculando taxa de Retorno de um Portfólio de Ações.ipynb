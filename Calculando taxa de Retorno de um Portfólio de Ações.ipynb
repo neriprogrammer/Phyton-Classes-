{
 "cells": [
  {
   "cell_type": "code",
   "execution_count": 1,
   "id": "618ad644",
   "metadata": {},
   "outputs": [],
   "source": [
    "import numpy as np\n",
    "import pandas as pd\n",
    "from pandas_datareader import data as wb\n",
    "import matplotlib.pyplot as plt"
   ]
  },
  {
   "cell_type": "code",
   "execution_count": 2,
   "id": "abb515ed",
   "metadata": {},
   "outputs": [],
   "source": [
    "tickers = ['PG', 'MSFT', 'FB', 'MELI']\n",
    "mydata = pd.DataFrame()\n",
    "for t in tickers:\n",
    "    mydata[t] = wb.DataReader(t, data_source='yahoo', start=\"2016-1-1\")[\"Adj Close\"]"
   ]
  },
  {
   "cell_type": "code",
   "execution_count": 3,
   "id": "b09c89f6",
   "metadata": {},
   "outputs": [
    {
     "data": {
      "text/html": [
       "<div>\n",
       "<style scoped>\n",
       "    .dataframe tbody tr th:only-of-type {\n",
       "        vertical-align: middle;\n",
       "    }\n",
       "\n",
       "    .dataframe tbody tr th {\n",
       "        vertical-align: top;\n",
       "    }\n",
       "\n",
       "    .dataframe thead th {\n",
       "        text-align: right;\n",
       "    }\n",
       "</style>\n",
       "<table border=\"1\" class=\"dataframe\">\n",
       "  <thead>\n",
       "    <tr style=\"text-align: right;\">\n",
       "      <th></th>\n",
       "      <th>PG</th>\n",
       "      <th>MSFT</th>\n",
       "      <th>FB</th>\n",
       "      <th>MELI</th>\n",
       "    </tr>\n",
       "    <tr>\n",
       "      <th>Date</th>\n",
       "      <th></th>\n",
       "      <th></th>\n",
       "      <th></th>\n",
       "      <th></th>\n",
       "    </tr>\n",
       "  </thead>\n",
       "  <tbody>\n",
       "    <tr>\n",
       "      <th>2016-01-04</th>\n",
       "      <td>65.451408</td>\n",
       "      <td>49.591045</td>\n",
       "      <td>102.220001</td>\n",
       "      <td>109.231110</td>\n",
       "    </tr>\n",
       "    <tr>\n",
       "      <th>2016-01-05</th>\n",
       "      <td>65.660194</td>\n",
       "      <td>49.817291</td>\n",
       "      <td>102.730003</td>\n",
       "      <td>108.962852</td>\n",
       "    </tr>\n",
       "    <tr>\n",
       "      <th>2016-01-06</th>\n",
       "      <td>65.025482</td>\n",
       "      <td>48.912338</td>\n",
       "      <td>102.970001</td>\n",
       "      <td>106.628235</td>\n",
       "    </tr>\n",
       "    <tr>\n",
       "      <th>2016-01-07</th>\n",
       "      <td>64.457588</td>\n",
       "      <td>47.211048</td>\n",
       "      <td>97.919998</td>\n",
       "      <td>102.256996</td>\n",
       "    </tr>\n",
       "    <tr>\n",
       "      <th>2016-01-08</th>\n",
       "      <td>63.447033</td>\n",
       "      <td>47.355835</td>\n",
       "      <td>97.330002</td>\n",
       "      <td>100.429024</td>\n",
       "    </tr>\n",
       "    <tr>\n",
       "      <th>...</th>\n",
       "      <td>...</td>\n",
       "      <td>...</td>\n",
       "      <td>...</td>\n",
       "      <td>...</td>\n",
       "    </tr>\n",
       "    <tr>\n",
       "      <th>2022-02-07</th>\n",
       "      <td>160.320007</td>\n",
       "      <td>300.950012</td>\n",
       "      <td>224.910004</td>\n",
       "      <td>1035.140015</td>\n",
       "    </tr>\n",
       "    <tr>\n",
       "      <th>2022-02-08</th>\n",
       "      <td>159.960007</td>\n",
       "      <td>304.559998</td>\n",
       "      <td>220.179993</td>\n",
       "      <td>1050.869995</td>\n",
       "    </tr>\n",
       "    <tr>\n",
       "      <th>2022-02-09</th>\n",
       "      <td>159.600006</td>\n",
       "      <td>311.209991</td>\n",
       "      <td>232.000000</td>\n",
       "      <td>1133.199951</td>\n",
       "    </tr>\n",
       "    <tr>\n",
       "      <th>2022-02-10</th>\n",
       "      <td>157.169998</td>\n",
       "      <td>302.380005</td>\n",
       "      <td>228.070007</td>\n",
       "      <td>1122.420044</td>\n",
       "    </tr>\n",
       "    <tr>\n",
       "      <th>2022-02-11</th>\n",
       "      <td>156.289993</td>\n",
       "      <td>295.040009</td>\n",
       "      <td>219.550003</td>\n",
       "      <td>1091.089966</td>\n",
       "    </tr>\n",
       "  </tbody>\n",
       "</table>\n",
       "<p>1540 rows × 4 columns</p>\n",
       "</div>"
      ],
      "text/plain": [
       "                    PG        MSFT          FB         MELI\n",
       "Date                                                       \n",
       "2016-01-04   65.451408   49.591045  102.220001   109.231110\n",
       "2016-01-05   65.660194   49.817291  102.730003   108.962852\n",
       "2016-01-06   65.025482   48.912338  102.970001   106.628235\n",
       "2016-01-07   64.457588   47.211048   97.919998   102.256996\n",
       "2016-01-08   63.447033   47.355835   97.330002   100.429024\n",
       "...                ...         ...         ...          ...\n",
       "2022-02-07  160.320007  300.950012  224.910004  1035.140015\n",
       "2022-02-08  159.960007  304.559998  220.179993  1050.869995\n",
       "2022-02-09  159.600006  311.209991  232.000000  1133.199951\n",
       "2022-02-10  157.169998  302.380005  228.070007  1122.420044\n",
       "2022-02-11  156.289993  295.040009  219.550003  1091.089966\n",
       "\n",
       "[1540 rows x 4 columns]"
      ]
     },
     "execution_count": 3,
     "metadata": {},
     "output_type": "execute_result"
    }
   ],
   "source": [
    "mydata"
   ]
  },
  {
   "cell_type": "code",
   "execution_count": 4,
   "id": "091f0d7b",
   "metadata": {},
   "outputs": [
    {
     "name": "stdout",
     "output_type": "stream",
     "text": [
      "<class 'pandas.core.frame.DataFrame'>\n",
      "DatetimeIndex: 1540 entries, 2016-01-04 to 2022-02-11\n",
      "Data columns (total 4 columns):\n",
      " #   Column  Non-Null Count  Dtype  \n",
      "---  ------  --------------  -----  \n",
      " 0   PG      1540 non-null   float64\n",
      " 1   MSFT    1540 non-null   float64\n",
      " 2   FB      1540 non-null   float64\n",
      " 3   MELI    1540 non-null   float64\n",
      "dtypes: float64(4)\n",
      "memory usage: 60.2 KB\n"
     ]
    }
   ],
   "source": [
    "mydata.info()"
   ]
  },
  {
   "cell_type": "code",
   "execution_count": 5,
   "id": "e8a88c4f",
   "metadata": {},
   "outputs": [
    {
     "data": {
      "text/html": [
       "<div>\n",
       "<style scoped>\n",
       "    .dataframe tbody tr th:only-of-type {\n",
       "        vertical-align: middle;\n",
       "    }\n",
       "\n",
       "    .dataframe tbody tr th {\n",
       "        vertical-align: top;\n",
       "    }\n",
       "\n",
       "    .dataframe thead th {\n",
       "        text-align: right;\n",
       "    }\n",
       "</style>\n",
       "<table border=\"1\" class=\"dataframe\">\n",
       "  <thead>\n",
       "    <tr style=\"text-align: right;\">\n",
       "      <th></th>\n",
       "      <th>PG</th>\n",
       "      <th>MSFT</th>\n",
       "      <th>FB</th>\n",
       "      <th>MELI</th>\n",
       "    </tr>\n",
       "    <tr>\n",
       "      <th>Date</th>\n",
       "      <th></th>\n",
       "      <th></th>\n",
       "      <th></th>\n",
       "      <th></th>\n",
       "    </tr>\n",
       "  </thead>\n",
       "  <tbody>\n",
       "    <tr>\n",
       "      <th>2016-01-04</th>\n",
       "      <td>65.451408</td>\n",
       "      <td>49.591045</td>\n",
       "      <td>102.220001</td>\n",
       "      <td>109.231110</td>\n",
       "    </tr>\n",
       "    <tr>\n",
       "      <th>2016-01-05</th>\n",
       "      <td>65.660194</td>\n",
       "      <td>49.817291</td>\n",
       "      <td>102.730003</td>\n",
       "      <td>108.962852</td>\n",
       "    </tr>\n",
       "    <tr>\n",
       "      <th>2016-01-06</th>\n",
       "      <td>65.025482</td>\n",
       "      <td>48.912338</td>\n",
       "      <td>102.970001</td>\n",
       "      <td>106.628235</td>\n",
       "    </tr>\n",
       "    <tr>\n",
       "      <th>2016-01-07</th>\n",
       "      <td>64.457588</td>\n",
       "      <td>47.211048</td>\n",
       "      <td>97.919998</td>\n",
       "      <td>102.256996</td>\n",
       "    </tr>\n",
       "    <tr>\n",
       "      <th>2016-01-08</th>\n",
       "      <td>63.447033</td>\n",
       "      <td>47.355835</td>\n",
       "      <td>97.330002</td>\n",
       "      <td>100.429024</td>\n",
       "    </tr>\n",
       "  </tbody>\n",
       "</table>\n",
       "</div>"
      ],
      "text/plain": [
       "                   PG       MSFT          FB        MELI\n",
       "Date                                                    \n",
       "2016-01-04  65.451408  49.591045  102.220001  109.231110\n",
       "2016-01-05  65.660194  49.817291  102.730003  108.962852\n",
       "2016-01-06  65.025482  48.912338  102.970001  106.628235\n",
       "2016-01-07  64.457588  47.211048   97.919998  102.256996\n",
       "2016-01-08  63.447033  47.355835   97.330002  100.429024"
      ]
     },
     "execution_count": 5,
     "metadata": {},
     "output_type": "execute_result"
    }
   ],
   "source": [
    "mydata.head()"
   ]
  },
  {
   "cell_type": "code",
   "execution_count": 6,
   "id": "a1aa5cac",
   "metadata": {},
   "outputs": [
    {
     "data": {
      "text/html": [
       "<div>\n",
       "<style scoped>\n",
       "    .dataframe tbody tr th:only-of-type {\n",
       "        vertical-align: middle;\n",
       "    }\n",
       "\n",
       "    .dataframe tbody tr th {\n",
       "        vertical-align: top;\n",
       "    }\n",
       "\n",
       "    .dataframe thead th {\n",
       "        text-align: right;\n",
       "    }\n",
       "</style>\n",
       "<table border=\"1\" class=\"dataframe\">\n",
       "  <thead>\n",
       "    <tr style=\"text-align: right;\">\n",
       "      <th></th>\n",
       "      <th>PG</th>\n",
       "      <th>MSFT</th>\n",
       "      <th>FB</th>\n",
       "      <th>MELI</th>\n",
       "    </tr>\n",
       "    <tr>\n",
       "      <th>Date</th>\n",
       "      <th></th>\n",
       "      <th></th>\n",
       "      <th></th>\n",
       "      <th></th>\n",
       "    </tr>\n",
       "  </thead>\n",
       "  <tbody>\n",
       "    <tr>\n",
       "      <th>2022-02-07</th>\n",
       "      <td>160.320007</td>\n",
       "      <td>300.950012</td>\n",
       "      <td>224.910004</td>\n",
       "      <td>1035.140015</td>\n",
       "    </tr>\n",
       "    <tr>\n",
       "      <th>2022-02-08</th>\n",
       "      <td>159.960007</td>\n",
       "      <td>304.559998</td>\n",
       "      <td>220.179993</td>\n",
       "      <td>1050.869995</td>\n",
       "    </tr>\n",
       "    <tr>\n",
       "      <th>2022-02-09</th>\n",
       "      <td>159.600006</td>\n",
       "      <td>311.209991</td>\n",
       "      <td>232.000000</td>\n",
       "      <td>1133.199951</td>\n",
       "    </tr>\n",
       "    <tr>\n",
       "      <th>2022-02-10</th>\n",
       "      <td>157.169998</td>\n",
       "      <td>302.380005</td>\n",
       "      <td>228.070007</td>\n",
       "      <td>1122.420044</td>\n",
       "    </tr>\n",
       "    <tr>\n",
       "      <th>2022-02-11</th>\n",
       "      <td>156.289993</td>\n",
       "      <td>295.040009</td>\n",
       "      <td>219.550003</td>\n",
       "      <td>1091.089966</td>\n",
       "    </tr>\n",
       "  </tbody>\n",
       "</table>\n",
       "</div>"
      ],
      "text/plain": [
       "                    PG        MSFT          FB         MELI\n",
       "Date                                                       \n",
       "2022-02-07  160.320007  300.950012  224.910004  1035.140015\n",
       "2022-02-08  159.960007  304.559998  220.179993  1050.869995\n",
       "2022-02-09  159.600006  311.209991  232.000000  1133.199951\n",
       "2022-02-10  157.169998  302.380005  228.070007  1122.420044\n",
       "2022-02-11  156.289993  295.040009  219.550003  1091.089966"
      ]
     },
     "execution_count": 6,
     "metadata": {},
     "output_type": "execute_result"
    }
   ],
   "source": [
    "mydata.tail()"
   ]
  },
  {
   "cell_type": "code",
   "execution_count": 10,
   "id": "63173ed3",
   "metadata": {},
   "outputs": [
    {
     "data": {
      "text/plain": [
       "PG       65.451408\n",
       "MSFT     49.591045\n",
       "FB      102.220001\n",
       "MELI    109.231110\n",
       "Name: 2016-01-04 00:00:00, dtype: float64"
      ]
     },
     "execution_count": 10,
     "metadata": {},
     "output_type": "execute_result"
    }
   ],
   "source": [
    "#Iloc = extrai os dados da primeira coluna da matriz\n",
    "mydata.iloc[0]"
   ]
  },
  {
   "cell_type": "code",
   "execution_count": 11,
   "id": "48ce1c65",
   "metadata": {},
   "outputs": [
    {
     "data": {
      "text/plain": [
       "<function matplotlib.pyplot.show(close=None, block=None)>"
      ]
     },
     "execution_count": 11,
     "metadata": {},
     "output_type": "execute_result"
    },
    {
     "data": {
      "image/png": "[encoded data removed]",
      "text/plain": [
       "<Figure size 1080x432 with 1 Axes>"
      ]
     },
     "metadata": {
      "needs_background": "light"
     },
     "output_type": "display_data"
    }
   ],
   "source": [
    "(mydata / mydata.iloc[0] * 100). plot(figsize = (15,6))\n",
    "plt.show"
   ]
  },
  {
   "cell_type": "code",
   "execution_count": 17,
   "id": "bc1752c6",
   "metadata": {},
   "outputs": [
    {
     "data": {
      "text/plain": [
       "PG       72.631248\n",
       "MSFT     58.185532\n",
       "FB      116.860001\n",
       "MELI    160.645721\n",
       "Name: 2017-01-03 00:00:00, dtype: float64"
      ]
     },
     "execution_count": 17,
     "metadata": {},
     "output_type": "execute_result"
    }
   ],
   "source": [
    "mydata.loc[\"2017-1-3\"]"
   ]
  },
  {
   "cell_type": "code",
   "execution_count": 22,
   "id": "a7e96429",
   "metadata": {},
   "outputs": [
    {
     "data": {
      "text/plain": [
       "PG       65.451408\n",
       "MSFT     49.591045\n",
       "FB      102.220001\n",
       "MELI    109.231110\n",
       "Name: 2016-01-04 00:00:00, dtype: float64"
      ]
     },
     "execution_count": 22,
     "metadata": {},
     "output_type": "execute_result"
    }
   ],
   "source": [
    "mydata.iloc[0]"
   ]
  },
  {
   "cell_type": "code",
   "execution_count": 30,
   "id": "832d8816",
   "metadata": {},
   "outputs": [
    {
     "data": {
      "text/html": [
       "<div>\n",
       "<style scoped>\n",
       "    .dataframe tbody tr th:only-of-type {\n",
       "        vertical-align: middle;\n",
       "    }\n",
       "\n",
       "    .dataframe tbody tr th {\n",
       "        vertical-align: top;\n",
       "    }\n",
       "\n",
       "    .dataframe thead th {\n",
       "        text-align: right;\n",
       "    }\n",
       "</style>\n",
       "<table border=\"1\" class=\"dataframe\">\n",
       "  <thead>\n",
       "    <tr style=\"text-align: right;\">\n",
       "      <th></th>\n",
       "      <th>PG</th>\n",
       "      <th>MSFT</th>\n",
       "      <th>FB</th>\n",
       "      <th>MELI</th>\n",
       "    </tr>\n",
       "    <tr>\n",
       "      <th>Date</th>\n",
       "      <th></th>\n",
       "      <th></th>\n",
       "      <th></th>\n",
       "      <th></th>\n",
       "    </tr>\n",
       "  </thead>\n",
       "  <tbody>\n",
       "    <tr>\n",
       "      <th>2022-02-07</th>\n",
       "      <td>-0.007491</td>\n",
       "      <td>-0.016310</td>\n",
       "      <td>-0.051373</td>\n",
       "      <td>-0.000183</td>\n",
       "    </tr>\n",
       "    <tr>\n",
       "      <th>2022-02-08</th>\n",
       "      <td>-0.002246</td>\n",
       "      <td>0.011995</td>\n",
       "      <td>-0.021031</td>\n",
       "      <td>0.015196</td>\n",
       "    </tr>\n",
       "    <tr>\n",
       "      <th>2022-02-09</th>\n",
       "      <td>-0.002251</td>\n",
       "      <td>0.021835</td>\n",
       "      <td>0.053683</td>\n",
       "      <td>0.078345</td>\n",
       "    </tr>\n",
       "    <tr>\n",
       "      <th>2022-02-10</th>\n",
       "      <td>-0.015226</td>\n",
       "      <td>-0.028373</td>\n",
       "      <td>-0.016940</td>\n",
       "      <td>-0.009513</td>\n",
       "    </tr>\n",
       "    <tr>\n",
       "      <th>2022-02-11</th>\n",
       "      <td>-0.005599</td>\n",
       "      <td>-0.024274</td>\n",
       "      <td>-0.037357</td>\n",
       "      <td>-0.027913</td>\n",
       "    </tr>\n",
       "  </tbody>\n",
       "</table>\n",
       "</div>"
      ],
      "text/plain": [
       "                  PG      MSFT        FB      MELI\n",
       "Date                                              \n",
       "2022-02-07 -0.007491 -0.016310 -0.051373 -0.000183\n",
       "2022-02-08 -0.002246  0.011995 -0.021031  0.015196\n",
       "2022-02-09 -0.002251  0.021835  0.053683  0.078345\n",
       "2022-02-10 -0.015226 -0.028373 -0.016940 -0.009513\n",
       "2022-02-11 -0.005599 -0.024274 -0.037357 -0.027913"
      ]
     },
     "execution_count": 30,
     "metadata": {},
     "output_type": "execute_result"
    }
   ],
   "source": [
    "#Calculando o retorno do portifolio\n",
    "returns = (mydata / mydata.shift(1)) - 1\n",
    "returns.tail()"
   ]
  },
  {
   "cell_type": "code",
   "execution_count": 31,
   "id": "2ac6b750",
   "metadata": {},
   "outputs": [],
   "source": [
    "weights = np.array([0.25, 0.25, 0.25, 0.25])"
   ]
  },
  {
   "cell_type": "code",
   "execution_count": 32,
   "id": "e61458ee",
   "metadata": {},
   "outputs": [
    {
     "data": {
      "text/plain": [
       "array([        nan,  0.00257139, -0.01173042, ...,  0.03790304,\n",
       "       -0.01751278, -0.02378577])"
      ]
     },
     "execution_count": 32,
     "metadata": {},
     "output_type": "execute_result"
    }
   ],
   "source": [
    "np.dot(returns, weights)"
   ]
  },
  {
   "cell_type": "code",
   "execution_count": 35,
   "id": "eb90d90d",
   "metadata": {},
   "outputs": [
    {
     "data": {
      "text/plain": [
       "PG      0.159702\n",
       "MSFT    0.325671\n",
       "FB      0.184027\n",
       "MELI    0.485582\n",
       "dtype: float64"
      ]
     },
     "execution_count": 35,
     "metadata": {},
     "output_type": "execute_result"
    }
   ],
   "source": [
    "annual_returns = returns.mean() * 250\n",
    "annual_returns"
   ]
  },
  {
   "cell_type": "code",
   "execution_count": 36,
   "id": "1d9a7e30",
   "metadata": {},
   "outputs": [
    {
     "data": {
      "text/plain": [
       "0.28874568214363133"
      ]
     },
     "execution_count": 36,
     "metadata": {},
     "output_type": "execute_result"
    }
   ],
   "source": [
    "np.dot(annual_returns, weights)"
   ]
  },
  {
   "cell_type": "code",
   "execution_count": 38,
   "id": "4add07cf",
   "metadata": {},
   "outputs": [
    {
     "name": "stdout",
     "output_type": "stream",
     "text": [
      "28.875 %\n"
     ]
    }
   ],
   "source": [
    "pfolio_1 = str(round(np.dot(annual_returns, weights), 5) *100) + ' %'\n",
    "print(pfolio_1)"
   ]
  },
  {
   "cell_type": "code",
   "execution_count": 42,
   "id": "1e4f7318",
   "metadata": {},
   "outputs": [],
   "source": [
    "weights_2 = np.array([0.4, 0.4, 0.15, 0.05])"
   ]
  },
  {
   "cell_type": "code",
   "execution_count": 43,
   "id": "76d85a1d",
   "metadata": {},
   "outputs": [
    {
     "name": "stdout",
     "output_type": "stream",
     "text": [
      "28.875 %\n",
      "24.603 %\n"
     ]
    }
   ],
   "source": [
    "pfolio_2 = str(round(np.dot(annual_returns, weights_2), 5) * 100) + ' %'\n",
    "print(pfolio_1)\n",
    "print(pfolio_2)"
   ]
  },
  {
   "cell_type": "code",
   "execution_count": null,
   "id": "ad5c4445",
   "metadata": {},
   "outputs": [],
   "source": []
  }
 ],
 "metadata": {
  "kernelspec": {
   "display_name": "Python 3",
   "language": "python",
   "name": "python3"
  },
  "language_info": {
   "codemirror_mode": {
    "name": "ipython",
    "version": 3
   },
   "file_extension": ".py",
   "mimetype": "text/x-python",
   "name": "python",
   "nbconvert_exporter": "python",
   "pygments_lexer": "ipython3",
   "version": "3.8.8"
  }
 },
 "nbformat": 4,
 "nbformat_minor": 5
}
